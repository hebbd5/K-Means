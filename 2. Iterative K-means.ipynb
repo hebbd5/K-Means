{
 "cells": [
  {
   "cell_type": "markdown",
   "metadata": {},
   "source": [
    "## Iterative K-means algorithm\n",
    "\n",
    "In the previous lesson, we built our first version of a K-means-based algorithm. This initial version was capable of splitting the dataset twice, and we were able to notice some differences and improvements from the first to second split.\n",
    "\n",
    "We'll now build from what we've done in order to develop a more robust, complete version of K-means. In this version, the code will cluster the data not twice, but as many times as necessary for the centroids to converge towards the mean of their clusters — or until it reaches a maximum number of iterations (N) that we'll set.\n",
    "\n",
    "![](https://s3.amazonaws.com/dq-content/742/1.1-m742.svg)\n",
    "\n",
    "Another important improvement from the first version is that we'll be able to use a different number of clusters (K) through the same code without being limited to splitting the dataset between only two clusters, as in lesson one.\n",
    "\n",
    "Finally, in the new implementation, we'll still only work with two variables; however, we'll write more flexible code that does not rely on the variables' names, allowing the users to use any combinations of features they want to.\n",
    "\n",
    "To achieve all this, we'll first need to initialize as many centroids as we want. Remember that in the previous lesson, our fetch_coordinates function was only capable of dealing with two centroids.\n",
    "\n",
    "We'll use the Annual Income instead of the Age column, alongside Spending Score."
   ]
  },
  {
   "cell_type": "markdown",
   "metadata": {},
   "source": [
    "### Instructions\n",
    "1. Read the mall_customers.csv file into a DataFrame called customers and keep the columns Annual Income and Spending Score.\n",
    "\n",
    "2. Create a function called get_centroids that will receive two arguments: a DataFrame and K (the number of centroids to initialize).\n",
    "\n",
    "- Inside the function, create a K-sized sample of the DataFrame.\n",
    "\n",
    "- The function should return, in order:\n",
    "\n",
    "    - The k-sized sample DataFrame\n",
    "    - The data in the DataFrame as a list of lists in the same order\n",
    "    \n",
    "3. Call the function passing the customers DataFrame and k=2. Assign the result back to centroids and coords and print the outputs."
   ]
  },
  {
   "cell_type": "code",
   "execution_count": 5,
   "metadata": {},
   "outputs": [],
   "source": [
    "import pandas as pd\n",
    "import numpy as np\n",
    "import matplotlib as plt\n",
    "import seaborn as sns"
   ]
  },
  {
   "cell_type": "code",
   "execution_count": null,
   "metadata": {},
   "outputs": [
    {
     "name": "stdout",
     "output_type": "stream",
     "text": [
      "     Annual Income  Spending Score\n",
      "182             98              15\n",
      "90              59              55 [[98, 15], [59, 55]]\n"
     ]
    }
   ],
   "source": [
    "cols_to_keep = ['Annual Income', 'Spending Score']\n",
    "\n",
    "customers = pd.read_csv(\"mall_customers.csv\") \n",
    "\n",
    "customers = customers[cols_to_keep].copy()\n",
    "\n",
    "def get_centroids(df, k):\n",
    "    \n",
    "    centroids = df.sample(k)\n",
    "    \n",
    "    coords = centroids.values.tolist()\n",
    "    \n",
    "    return centroids, coords\n",
    "\n",
    "centroids, coords = get_centroids(customers, k = 2)\n",
    "\n",
    "print(centroids, coords)"
   ]
  },
  {
   "cell_type": "markdown",
   "metadata": {},
   "source": [
    "## Calculating Distances\n",
    "You may remember how we calculated the distances between the centroids and the data points in the previous lesson. We used the Euclidean distance formula to create new columns in the customers DataFrame for each centroid. This means that we ended up with two columns: dist_centroid_1 and dist_centroid_2.\n",
    "\n",
    "As we now need to calculate the distance for any number of centroids we want to, that approach won't work anymore. We need to write code that will create k new columns from the dist_centroid_1 to dist_centroid_k.\n",
    "\n",
    "![](https://s3.amazonaws.com/dq-content/742/2.1-m742.svg)\n",
    "\n",
    "In the code displayed on the right, we started creating a function called calculate_distance that takes a two-column DataFrame and the list of lists with the centroids' coordinates as inputs. Inside the function, we'll initialize an empty list called names. The function then loops through the centroids' coordinates list using enumerate, so we can have access to the value and the index of each inner list."
   ]
  },
  {
   "cell_type": "markdown",
   "metadata": {},
   "source": [
    "### Instructions\n",
    "The variables customers, centroids, clusters, coords, and the get_centroids function are available in this screen.\n",
    "\n",
    "1. Write a function, calculate_distance, to calculate the distance to each centroid.\n",
    "\n",
    "    - It should take two arguments:\n",
    "        - A two-column DataFrame\n",
    "        - A list of coordinates of the centroids returned by the get_centroids function.\n",
    "\n",
    "    - Loop through the centroids_coords list and create a column, dist_centroid_<suffix>, containing the distance of each row to that particular centroid.\n",
    "        - In the column name, <suffix> should be appropriately replaced with a number between 1 and the number of clusters/centroids.\n",
    "\n",
    "    - The function should return the DataFrame containing the new columns and a list with the name of those new columns.\n",
    "\n",
    "2. Call the function using the customers DataFrame and the coords list as arguments and assign the results to customers and dist_names.\n",
    "\n",
    "3. Print the outputs."
   ]
  },
  {
   "cell_type": "code",
   "execution_count": 6,
   "metadata": {},
   "outputs": [
    {
     "name": "stdout",
     "output_type": "stream",
     "text": [
      "     Annual Income  Spending Score  dist_centroid_1  dist_centroid_2\n",
      "0               15              39        86.400231        46.818800\n",
      "1               15              81       106.042444        51.107729\n",
      "2               16               6        82.492424        65.192024\n",
      "3               16              77       102.800778        48.301139\n",
      "4               17              40        84.770278        44.598206\n",
      "..             ...             ...              ...              ...\n",
      "195            120              79        67.675697        65.551506\n",
      "196            126              28        30.870698        72.235725\n",
      "197            126              74        65.306967        69.641941\n",
      "198            137              18        39.115214        86.330759\n",
      "199            137              83        78.390050        82.873397\n",
      "\n",
      "[200 rows x 4 columns] ['dist_centroid_1', 'dist_centroid_2']\n"
     ]
    }
   ],
   "source": [
    "def calculate_distance(df, centroids_coords):\n",
    "    \n",
    "    names = []\n",
    "    \n",
    "    for i, centroid in enumerate(centroids_coords):\n",
    "        name = f'dist_centroid_{i + 1}'\n",
    "        df[name] = np.sqrt((df.iloc[:,0] - centroid[0])**2 + (df.iloc[:,1] - centroid[1])**2)\n",
    "        names.append(name)\n",
    "         \n",
    "    return df, names\n",
    "\n",
    "customers, dist_names = calculate_distance(customers, coords)\n",
    "\n",
    "print(customers, dist_names)"
   ]
  },
  {
   "cell_type": "markdown",
   "metadata": {},
   "source": [
    "## Assigning Clusters\n",
    "We're now able to initialize as many centroids as we want and also calculate the distance from each point to as many centroids, too. The next step is to assign clusters.\n",
    "\n",
    "When we limit the algorithm to only two clusters, it's much easier to determine the cluster for a point. It's only a matter of comparing two distances. We now need to be able to compare as many distances as we want, which demands a different approach.\n",
    "\n",
    "That's the reason the calculate_distance function from the last screen returns not only the DataFrame with the distance columns, but also the names of such columns.\n",
    "\n",
    "This list with names will be used to select only the columns containing the distances so we can select the one closer to the data point.\n",
    "\n",
    "The DataFrame.idxmin() method returns the index of the minimum value in columns. However, if we set axis=1, it returns the columns with the minimum value in a row. We can then create the cluster column to select the column with the minimum distance:\n",
    "\n",
    "```python\n",
    "customers['cluster'] = customers[dist_names].idxmin(axis=1)\n",
    "```\n",
    "\n",
    "```\n",
    "Annual Income\tSpending Score\tdist_centroid_1\tdist_centroid_2\tcluster\n",
    "15\t39\t33.24154\t23.345235\tdist_centroid_2\n",
    "15\t81\t43.139309\t51.429563\tdist_centroid_1\n",
    "16\t6\t54.083269\t36.400549\tdist_centroid_2\n",
    "16\t77\t39.698866\t47.413078\tdist_centroid_1\n",
    "17\t40\t31.016125\t21.587033\tdist_centroid_2\n",
    "```"
   ]
  },
  {
   "cell_type": "markdown",
   "metadata": {},
   "source": [
    "### Instructions\n",
    "In this exercise, we'll create a cluster column scaffolded from the above like this:\n",
    "\n",
    "```\n",
    "Annual Income\tSpending Score\tdist_centroid_1\tdist_centroid_2\tcluster\n",
    "15\t39\t33.24154\t23.345235\t2\n",
    "15\t81\t43.139309\t51.429563\t1\n",
    "16\t6\t54.083269\t36.400549\t2\n",
    "16\t77\t39.698866\t47.413078\t1\n",
    "17\t40\t31.016125\t21.587033\t2\n",
    "```\n",
    "\n",
    "1. Create a column, `cluster`, that contains the cluster for each row as exemplified above.\n",
    "\n",
    "2. Use the `sns.scatterplot` function to create a chart with the scatter plot of the `customers` DataFrame, grouped by cluster. In the same chart, plot the centroids."
   ]
  },
  {
   "cell_type": "code",
   "execution_count": 7,
   "metadata": {},
   "outputs": [
    {
     "name": "stdout",
     "output_type": "stream",
     "text": [
      "     Annual Income  Spending Score  dist_centroid_1  dist_centroid_2 cluster\n",
      "0               15              39        86.400231        46.818800       2\n",
      "1               15              81       106.042444        51.107729       2\n",
      "2               16               6        82.492424        65.192024       2\n",
      "3               16              77       102.800778        48.301139       2\n",
      "4               17              40        84.770278        44.598206       2\n",
      "..             ...             ...              ...              ...     ...\n",
      "195            120              79        67.675697        65.551506       2\n",
      "196            126              28        30.870698        72.235725       1\n",
      "197            126              74        65.306967        69.641941       1\n",
      "198            137              18        39.115214        86.330759       1\n",
      "199            137              83        78.390050        82.873397       1\n",
      "\n",
      "[200 rows x 5 columns]\n"
     ]
    },
    {
     "ename": "TypeError",
     "evalue": "scatterplot() got multiple values for argument 'data'",
     "output_type": "error",
     "traceback": [
      "\u001b[0;31m---------------------------------------------------------------------------\u001b[0m",
      "\u001b[0;31mTypeError\u001b[0m                                 Traceback (most recent call last)",
      "Cell \u001b[0;32mIn[7], line 4\u001b[0m\n\u001b[1;32m      1\u001b[0m customers[\u001b[38;5;124m'\u001b[39m\u001b[38;5;124mcluster\u001b[39m\u001b[38;5;124m'\u001b[39m] \u001b[38;5;241m=\u001b[39m customers[dist_names]\u001b[38;5;241m.\u001b[39midxmin(axis\u001b[38;5;241m=\u001b[39m\u001b[38;5;241m1\u001b[39m)\u001b[38;5;241m.\u001b[39mstr\u001b[38;5;241m.\u001b[39msplit(\u001b[38;5;124m'\u001b[39m\u001b[38;5;124m_\u001b[39m\u001b[38;5;124m'\u001b[39m)\u001b[38;5;241m.\u001b[39mstr[\u001b[38;5;241m-\u001b[39m\u001b[38;5;241m1\u001b[39m]\n\u001b[1;32m      2\u001b[0m \u001b[38;5;28mprint\u001b[39m(customers)\n\u001b[0;32m----> 4\u001b[0m sns\u001b[38;5;241m.\u001b[39mscatterplot(\u001b[38;5;124m'\u001b[39m\u001b[38;5;124mAnnual Income\u001b[39m\u001b[38;5;124m'\u001b[39m, \u001b[38;5;124m'\u001b[39m\u001b[38;5;124mSpending Score\u001b[39m\u001b[38;5;124m'\u001b[39m, hue\u001b[38;5;241m=\u001b[39m\u001b[38;5;124m'\u001b[39m\u001b[38;5;124mcluster\u001b[39m\u001b[38;5;124m'\u001b[39m, palette\u001b[38;5;241m=\u001b[39m\u001b[38;5;124m'\u001b[39m\u001b[38;5;124mtab10\u001b[39m\u001b[38;5;124m'\u001b[39m, data\u001b[38;5;241m=\u001b[39mcustomers, s\u001b[38;5;241m=\u001b[39m\u001b[38;5;241m50\u001b[39m)\n\u001b[1;32m      5\u001b[0m sns\u001b[38;5;241m.\u001b[39mscatterplot(\u001b[38;5;124m'\u001b[39m\u001b[38;5;124mAnnual Income\u001b[39m\u001b[38;5;124m'\u001b[39m, \u001b[38;5;124m'\u001b[39m\u001b[38;5;124mSpending Score\u001b[39m\u001b[38;5;124m'\u001b[39m, color\u001b[38;5;241m=\u001b[39m\u001b[38;5;124m'\u001b[39m\u001b[38;5;124mblack\u001b[39m\u001b[38;5;124m'\u001b[39m, data\u001b[38;5;241m=\u001b[39mcentroids, s\u001b[38;5;241m=\u001b[39m\u001b[38;5;241m100\u001b[39m)\n\u001b[1;32m      7\u001b[0m plt\u001b[38;5;241m.\u001b[39mshow()\n",
      "\u001b[0;31mTypeError\u001b[0m: scatterplot() got multiple values for argument 'data'"
     ]
    }
   ],
   "source": [
    "customers['cluster'] = customers[dist_names].idxmin(axis=1).str.split('_').str[-1]\n",
    "print(customers)\n",
    "\n",
    "sns.scatterplot('Annual Income', 'Spending Score', hue='cluster', palette='tab10', data=customers, s=50)\n",
    "sns.scatterplot('Annual Income', 'Spending Score', color='black', data=centroids, s=100)\n",
    "\n",
    "plt.show()"
   ]
  },
  {
   "cell_type": "markdown",
   "metadata": {},
   "source": [
    "## Recalculating Centroids\n",
    "It's now time to recalculate the centroids again, just like in this image from the previous lesson:\n",
    "\n",
    "\n",
    "As we've seen before, the centroids are only randomly initialized once, and, from the second time on, they are the mean of all points in their cluster. This means that we do not need to use the get_centroids function again.\n",
    "\n",
    "The process of recalculating centroids is similar to what we've done in the last lesson, but now we'll also extract the coordinates of the centroids."
   ]
  },
  {
   "cell_type": "markdown",
   "metadata": {},
   "source": [
    "### Instructions\n",
    "We've created a list containing the two variables we're using for clustering.\n",
    "\n",
    "1. Use the `DataFrame.groupby()` method to group these columns by the cluster column and calculate their mean.Assign the result back to `new_centroids`. Round the results to 4 digits.\n",
    "\n",
    "2. Create a list of lists containing the coordinates for each centroid and assign it to new_coords.\n",
    "\n",
    "3. Print the new centroids and the new coordinates."
   ]
  },
  {
   "cell_type": "code",
   "execution_count": null,
   "metadata": {},
   "outputs": [],
   "source": [
    "variables = customers.columns[:2]\n",
    "\n",
    "new_centroids = round(customers.groupby('cluster')[variables].mean(), 4)\n",
    "new_coords = new_centroids.values.tolist()\n",
    "\n",
    "print(new_centroids)\n",
    "print(new_coords)"
   ]
  },
  {
   "cell_type": "markdown",
   "metadata": {},
   "source": [
    "Creating an Iterative Process\n",
    "Learn\n",
    "Until now, we've taken every step to build the algorithm separately. It's time to start putting the pieces together.\n",
    "\n",
    "The process we've done so far consists of:\n",
    "\n",
    "Initializing random centroids.\n",
    "Calculating distances.\n",
    "Assigning clusters.\n",
    "Recalculating new centroids.\n",
    "Recalculating distances.\n",
    "Assigning new clusters.\n",
    "This list consists of only one iteration of the K-means algorithm. However, because it's an iterative algorithm, we should make our code repeat part of the process over and over again until the clusters no longer change or a maximum number of iterations is reached. To achieve that, all the other steps aside from the initialization of the first centroids should be inside a for loop. The number of iterations in the for loop will be the maximum number of iterations performed by the algorithm.\n",
    "\n",
    "In this screen, we'll start the entire process from the beginning, building on everything we've done so far.\n",
    "\n",
    "For this screen's exercise, we have already\n",
    "\n",
    "Read the DataFrame.\n",
    "\n",
    "Selected the columns we want to use.\n",
    "\n",
    "Created a list containing these columns.\n",
    "\n",
    "Initialized the first centroids.\n",
    "\n"
   ]
  },
  {
   "cell_type": "markdown",
   "metadata": {},
   "source": [
    "Instructions\n",
    "Use a for loop to recreate the iteration 100 times. Inside the loop you will:\n",
    "\n",
    "Use the calculate_distance function to create the columns containing the distance from each centroid in the customers DataFrame. As a reminder:\n",
    "The function takes the DataFrame and the list of coordinates of the centroids as arguments.\n",
    "The function returns the DataFrame containing the new columns and a list with the name of those new columns.\n",
    "Assign a cluster to each row using idxmin().\n",
    "Recalculate the centroids using groupby() and their coordinates.\n",
    "The new centroids and coordinates must be assigned to the same variable as in the first initialization, and they should have the same datatypes.\n",
    "When the loop is over, print the total number of iterations and make sure the algorithm ran 100 times.\n",
    "\n",
    "Create the scatter plot of the customers grouped by clusters, and also plot the centroids. See how the clusters are split after 100 iterations."
   ]
  },
  {
   "cell_type": "code",
   "execution_count": null,
   "metadata": {},
   "outputs": [],
   "source": [
    "customers = pd.read_csv('mall_customers.csv')\n",
    "\n",
    "cols_to_keep = ['Annual Income', 'Spending Score']\n",
    "customers = customers[cols_to_keep].copy()\n",
    "\n",
    "variables = customers.columns\n",
    "\n",
    "centroids, coords = get_centroids(customers, 2)\n",
    "\n",
    "\n",
    "for i in range(100): \n",
    "    customers, dist_names = calculate_distance(customers, coords)\n",
    "\n",
    "    customers['cluster'] = customers[dist_names].idxmin(axis=1).str.split('_').str[-1]\n",
    "\n",
    "    centroids = round(customers.groupby('cluster')[variables].mean(), 4)\n",
    "    coords = centroids.values.tolist()\n",
    "\n",
    "print(f'Total Iterations: {i + 1}')\n",
    "                    \n",
    "sns.scatterplot('Annual Income', 'Spending Score', hue='cluster', palette='tab10', data=customers, s=50)\n",
    "sns.scatterplot('Annual Income', 'Spending Score', color='black', data=centroids, s=100)\n",
    "\n",
    "plt.show()"
   ]
  },
  {
   "cell_type": "markdown",
   "metadata": {},
   "source": [
    "On the previous screen, we saw the algorithm ran for one hundred times before defining a final cluster split. Just like the K number of clusters, the total number of iterations is a parameter that the user is capable of setting when using K-means.\n",
    "\n",
    "Using the number of iterations as a parameter is very important in K-means, because depending on the first (and random) initialization of clusters, the algorithm may take a long time to stop.\n",
    "\n",
    "This number of iterations is better known as the maximum number of iterations because the algorithm also has another condition to stop running and will not necessarily need to run all the iterations.\n",
    "\n",
    "The other condition is when the centroids don't change from one iteration to another. When centroids don't change, it means that they are already the mean of their cluster and, therefore, won't change again, which is the condition to stop the iterations.\n",
    "\n",
    "This condition is the final piece that is missing in our algorithm, and we'll implement it on this screen."
   ]
  },
  {
   "cell_type": "markdown",
   "metadata": {},
   "source": [
    "## Instructions\n",
    "The entire code from the previous screen is written for us already, so we can just add the new implementations.\n",
    "\n",
    "1. Inside the loop, create a copy of the coords variable before using the calculate_distance function and assign it to another variable called last_coords. These will be the coordinates of the centroids created in the previous iteration of the loop.\n",
    "\n",
    "2. At the end of the loop, but still inside it, just after the centroids and coordinates are recalculated, check if they are equal to the last iteration's centroids, which are stored in last_cords.\n",
    "\n",
    "3. If coords is equal to last_coords, stop the iteration."
   ]
  },
  {
   "cell_type": "markdown",
   "metadata": {},
   "source": [
    "#### Questions\n",
    "1. Did the number of iterations change or the scatter plots change?\n",
    "\n",
    "    - Neither the plot nor the number of iterations changed.\n",
    "\n",
    "    - Both the plot and the number of iterations changed.\n",
    "\n",
    "    - ==Only the number of iterations changed.==\n",
    "\n",
    "    - Only the scatter plots changed.\n",
    "\n",
    "\n",
    "2. If the number of iterations changed and the scatter plots are the same, how many fewer iterations were necessary to achieve the same result?\n",
    "\n",
    "    - The number of iterations did not change.\n",
    "\n",
    "    - 90\n",
    "\n",
    "    - ==92==\n",
    "\n",
    "    - 100"
   ]
  },
  {
   "cell_type": "code",
   "execution_count": null,
   "metadata": {},
   "outputs": [],
   "source": [
    "customers = pd.read_csv('mall_customers.csv')\n",
    "\n",
    "cols_to_keep = ['Annual Income', 'Spending Score']\n",
    "customers = customers[cols_to_keep].copy()\n",
    "\n",
    "variables = customers.columns\n",
    "\n",
    "centroids, coords  = get_centroids(customers, 2)\n",
    "\n",
    "for i in range(100): \n",
    "    customers, dist_names = calculate_distance(customers, coords)\n",
    "\n",
    "    customers['cluster'] = customers[dist_names].idxmin(axis=1).str.split('_').str[-1]\n",
    "\n",
    "    centroids = round(customers.groupby('cluster')[variables].mean(), 4)\n",
    "    coords = centroids.values.tolist()\n",
    "\n",
    "print(f'Total Iterations: {i + 1}')\n",
    "                    \n",
    "sns.scatterplot('Annual Income', 'Spending Score', hue='cluster', palette='tab10', data=customers, s=50)\n",
    "sns.scatterplot('Annual Income', 'Spending Score', color='black', data=centroids, s=100)\n",
    "\n",
    "plt.show()\n",
    "\n",
    "\n",
    "customers = pd.read_csv('mall_customers.csv')\n",
    "\n",
    "cols_to_keep = ['Annual Income', 'Spending Score']\n",
    "customers = customers[cols_to_keep].copy()\n",
    "\n",
    "variables = customers.columns\n",
    "\n",
    "centroids, coords  = get_centroids(customers, 2)\n",
    "\n",
    "for i in range(100):\n",
    "    last_coords = coords.copy()\n",
    "\n",
    "    customers, dist_names = calculate_distance(customers, coords)\n",
    "\n",
    "    customers['cluster'] = customers[dist_names].idxmin(axis=1).str.split('_').str[-1]\n",
    "\n",
    "    centroids = round(customers.groupby('cluster')[variables].mean(), 4)\n",
    "    coords = centroids.values.tolist()\n",
    "                    \n",
    "    if last_coords == coords:\n",
    "        break\n",
    "\n",
    "print(f'Total Iterations: {i + 1}')\n",
    "                    \n",
    "sns.scatterplot('Annual Income', 'Spending Score', hue='cluster', palette='tab10', data=customers, s=50)\n",
    "sns.scatterplot('Annual Income', 'Spending Score', color='black', data=centroids, s=100)\n",
    "\n",
    "plt.show()"
   ]
  },
  {
   "cell_type": "markdown",
   "metadata": {},
   "source": [
    "## Finishing the Algorithm\n",
    "\n",
    "We've come a long way from understanding the concepts of unsupervised machine learning and K-means, to building our first version of the algorithm.\n",
    "\n",
    "On the last screen, the number of iterations needed to converge was eight, as opposed to one hundred iterations on the screen before that. This means that the last 92 iterations did absolutely nothing and were a waste of time and computational power.\n",
    "\n",
    "Now, our algorithm runs only when it needs to. If the algorithm does not converge or takes too long, it's important to set a maximum number of iterations so it does not run indefinitely.\n",
    "\n",
    "We have gone through all the steps:\n",
    "\n",
    "![](https://s3.amazonaws.com/dq-content/742/7.1-m742.svg)\n",
    "\n",
    "On this screen, we'll combine these steps into a single function that we'll call our k-means algorithm. This function will:\n",
    "\n",
    "1. Split the clusters.\n",
    "2. Print the number of iterations needed.\n",
    "3. Plot the final clusters and centroids.\n",
    "4. Work for a two-column DataFrame and any number of clusters.\n",
    "5. Allow us to set the maximum number of iterations.\n"
   ]
  },
  {
   "cell_type": "markdown",
   "metadata": {},
   "source": [
    "### Instructions\n",
    "1. Write a function called kmeans with the following properties:\n",
    "\n",
    "    - The function should take a two-column DataFrame, the number of clusters k, and the maximum number of iterations (set the default to 100) as inputs.\n",
    "\n",
    "    - The function should:\n",
    "\n",
    "        - Create a list called variables, containing the columns used in the clusterization.\n",
    "        - Randomly initialize centroids and their coordinates with the get_centroids function.\n",
    "        - Create a loop that will run for the maximum number of iterations, or until the centroids no longer change.\n",
    "            - Recalculate the centroids and their coordinates inside the loop.\n",
    "        - Print the total number of iterations needed and create scatter plots for the data and for the centroids.\n",
    "    - Return the cluster column.\n",
    "    \n",
    "2. Call the function using the customers DataFrame and k=2. Assign the result to clusters."
   ]
  },
  {
   "cell_type": "code",
   "execution_count": null,
   "metadata": {},
   "outputs": [],
   "source": [
    "customers = pd.read_csv('mall_customers.csv')\n",
    "\n",
    "cols_to_keep = ['Annual Income', 'Spending Score']\n",
    "customers = customers[cols_to_keep].copy()\n",
    "\n",
    "\n",
    "def kmeans(df, k, n_iterations=100):\n",
    "    variables = df.columns\n",
    "\n",
    "    centroids, coords = get_centroids(df, k)\n",
    "\n",
    "    for i in range(n_iterations):\n",
    "        last_coords = coords.copy()\n",
    "\n",
    "        df, dists = calculate_distance(df, coords)\n",
    "\n",
    "        df['cluster'] = df[dists].idxmin(axis=1).str.split('_').str[-1]\n",
    "\n",
    "        centroids = round(df.groupby('cluster')[variables].mean(), 4)\n",
    "        coords = centroids.values.tolist()\n",
    "\n",
    "        if last_coords == coords:\n",
    "      \t    break\n",
    "    \n",
    "    print(f'Total Iterations: {i + 1}')\n",
    "\n",
    "    fig, ax = plt.subplots(figsize=(10, 5))\n",
    "    sns.scatterplot(variables[0], variables[1], hue='cluster', palette='tab10', data=df, s=50, ax=ax)\n",
    "    sns.scatterplot(variables[0], variables[1], color='black', data=centroids, s=100, ax=ax)\n",
    "\n",
    "\n",
    "    plt.tight_layout()\n",
    "    plt.show()\n",
    "\n",
    "    return df['cluster']\n",
    "\n",
    "  \n",
    "clusters = kmeans(customers, 2)"
   ]
  },
  {
   "cell_type": "markdown",
   "metadata": {},
   "source": [
    "## Review\n",
    "In this lesson, we created a more complete version of the K-means algorithm. We're now able to split the dataset into clusters, independent of the variables' names. It's also possible to set the number of clusters and maximum number of iterations.\n",
    "\n",
    "In the next lesson, we'll look into metrics and defining the number of clusters."
   ]
  }
 ],
 "metadata": {
  "kernelspec": {
   "display_name": "dsh-venv",
   "language": "python",
   "name": "python3"
  },
  "language_info": {
   "codemirror_mode": {
    "name": "ipython",
    "version": 3
   },
   "file_extension": ".py",
   "mimetype": "text/x-python",
   "name": "python",
   "nbconvert_exporter": "python",
   "pygments_lexer": "ipython3",
   "version": "3.12.2"
  }
 },
 "nbformat": 4,
 "nbformat_minor": 2
}
